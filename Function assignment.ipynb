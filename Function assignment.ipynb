{
 "cells": [
  {
   "cell_type": "markdown",
   "id": "0f7e5c5b-43b7-473e-94dd-cbdc3e37141b",
   "metadata": {},
   "source": [
    "# Function Assingnment : Theory questions"
   ]
  },
  {
   "cell_type": "markdown",
   "id": "8ce9b6f3-95ca-41b4-a178-366de5d9a3be",
   "metadata": {},
   "source": [
    "**1. What is the difference between a function and a method in Python?**\n",
    "- function is block of code which performs some specific task/computation\n",
    "- a method is a function that is part of a class\n",
    "- that is defined using the def keyword and can be called indeoendently."
   ]
  },
  {
   "cell_type": "code",
   "execution_count": 2,
   "id": "db058db6-b127-4377-b2d8-d1b81a4333e7",
   "metadata": {},
   "outputs": [
    {
     "name": "stdout",
     "output_type": "stream",
     "text": [
      "Hello, welcome Harshada\n"
     ]
    }
   ],
   "source": [
    "def greet(name): #function\n",
    "    return \"Hello, welcome \" + name\n",
    "print(greet(\"Harshada\"))"
   ]
  },
  {
   "cell_type": "code",
   "execution_count": 3,
   "id": "050f8070-2640-4b3d-8401-c7e12ec5137c",
   "metadata": {},
   "outputs": [
    {
     "data": {
      "text/plain": [
       "'Hello, welcome Shuti'"
      ]
     },
     "execution_count": 3,
     "metadata": {},
     "output_type": "execute_result"
    }
   ],
   "source": [
    "greet(\"Shuti\")"
   ]
  },
  {
   "cell_type": "markdown",
   "id": "a5d5317b-c478-4464-b5f5-3c7aa6cf6a62",
   "metadata": {},
   "source": [
    "**2. Explain the concept of function arguments and parameters in Python.**\n",
    "- Parameters are the variables listed in the fuction definition.\n",
    "- Arguments are the actual values passed to the function."
   ]
  },
  {
   "cell_type": "code",
   "execution_count": 1,
   "id": "8ec4ec9a-1bf8-4aa7-8298-92139d2057ad",
   "metadata": {},
   "outputs": [
    {
     "data": {
      "text/plain": [
       "40"
      ]
     },
     "execution_count": 1,
     "metadata": {},
     "output_type": "execute_result"
    }
   ],
   "source": [
    "def add(a,b): #a,b are parameters\n",
    "    return a+b\n",
    "add(10,30)    #10,30 are argument"
   ]
  },
  {
   "cell_type": "markdown",
   "id": "c18d20cf-1f3f-4d4c-aee0-f6f7b6279fc1",
   "metadata": {},
   "source": [
    "**3. What are the different ways to define and call a function in Python?**\n",
    "- use def for define\n",
    "- using normal function(def)\n",
    "- keyword argument\n",
    "- call by writing function name by ()\n",
    "- default argument "
   ]
  },
  {
   "cell_type": "code",
   "execution_count": 6,
   "id": "7c48b3ab-5116-498c-b7ae-54bcd354f9b1",
   "metadata": {},
   "outputs": [
    {
     "name": "stdout",
     "output_type": "stream",
     "text": [
      "Hellooo ovi\n"
     ]
    }
   ],
   "source": [
    "def greet(name):\n",
    "    return 'Hellooo' + name\n",
    "print(greet(' ovi'))"
   ]
  },
  {
   "cell_type": "markdown",
   "id": "b0cfc3d9-7be1-46b8-a193-294d6c38a614",
   "metadata": {},
   "source": [
    "**4. What is the purpose of the 'return'statement in a Python function?**\n",
    "- return is used to send a value back from the function to the caller\n",
    "- return is output of a function "
   ]
  },
  {
   "cell_type": "code",
   "execution_count": 7,
   "id": "4a48f1ff-f18c-474e-87d0-c900712f893c",
   "metadata": {},
   "outputs": [
    {
     "name": "stdout",
     "output_type": "stream",
     "text": [
      "40\n"
     ]
    }
   ],
   "source": [
    "def add(a,b): \n",
    "    return a+b\n",
    "result = add(10,30) \n",
    "print(result)"
   ]
  },
  {
   "cell_type": "markdown",
   "id": "9650792f-8dc8-4a9d-8f36-54da217f0699",
   "metadata": {},
   "source": [
    "**5. What are iterators in Python and how do they differ from iterables?**\n",
    "- iterable: it is object with _iter_() method like list,tuple\n",
    "- its members one at a time\n",
    "- iterator: it is object with _next_() method\n",
    "- it is an object representing a string of data is to return the data one by one"
   ]
  },
  {
   "cell_type": "code",
   "execution_count": 13,
   "id": "aa90014a-0df8-4f2f-b5f7-d6cc3a48beeb",
   "metadata": {},
   "outputs": [
    {
     "data": {
      "text/plain": [
       "'shruti'"
      ]
     },
     "execution_count": 13,
     "metadata": {},
     "output_type": "execute_result"
    }
   ],
   "source": [
    "student = ['shruti','harshu','diksha']  #iterable\n",
    "Us = iter(student)      #convert to iterator\n",
    "next(Us)    #output 1"
   ]
  },
  {
   "cell_type": "markdown",
   "id": "182b5ea9-822d-4b30-aa83-73aad6af46cb",
   "metadata": {},
   "source": [
    "**6. Explain the concept of generators in Python and how they are defined.**\n",
    "- regular function calculation the square of the values and return in one go\n",
    "- since its returning in one go, it is memory usage will be more\n",
    "- function using yield to return one value at a time\n",
    "- saves memory and used for large data"
   ]
  },
  {
   "cell_type": "code",
   "execution_count": 19,
   "id": "7c3c973f-50b8-45fd-b802-229a43933fdc",
   "metadata": {},
   "outputs": [
    {
     "name": "stdout",
     "output_type": "stream",
     "text": [
      "1\n",
      "2\n",
      "3\n"
     ]
    }
   ],
   "source": [
    "def gen(): #example 1\n",
    "    yield 1\n",
    "    yield 2\n",
    "    yield 3\n",
    "for i in gen():\n",
    "    print(i)"
   ]
  },
  {
   "cell_type": "code",
   "execution_count": 16,
   "id": "daa18dea-0cda-4a6c-adcd-6dd2f0c2e30a",
   "metadata": {},
   "outputs": [
    {
     "data": {
      "text/plain": [
       "0"
      ]
     },
     "execution_count": 16,
     "metadata": {},
     "output_type": "execute_result"
    }
   ],
   "source": [
    "def square_num(n):  #example 2\n",
    "    for i in range(n):\n",
    "        yield i*2\n",
    "square_num(10)\n",
    "gen = square_num(10)\n",
    "next(gen)"
   ]
  },
  {
   "cell_type": "code",
   "execution_count": 17,
   "id": "f2977aff-d87d-4aab-8f71-8e8da2cf3d87",
   "metadata": {},
   "outputs": [
    {
     "data": {
      "text/plain": [
       "2"
      ]
     },
     "execution_count": 17,
     "metadata": {},
     "output_type": "execute_result"
    }
   ],
   "source": [
    "next(gen)"
   ]
  },
  {
   "cell_type": "code",
   "execution_count": 18,
   "id": "7826564b-206e-4f3a-bda2-943b37cd622f",
   "metadata": {},
   "outputs": [
    {
     "data": {
      "text/plain": [
       "4"
      ]
     },
     "execution_count": 18,
     "metadata": {},
     "output_type": "execute_result"
    }
   ],
   "source": [
    "next(gen)"
   ]
  },
  {
   "cell_type": "markdown",
   "id": "eeda02d3-344c-4a6e-af02-e2b9abdc31fb",
   "metadata": {},
   "source": [
    "**7. What are the advantages of using generators over regular functions?**\n",
    "- memory efficient\n",
    "- generates values one by one on demand\n",
    "- it will a lot of execution time if there is lot of coputation as all the \n",
    "- computatio will be done first and then the calculation will be returned in one go"
   ]
  },
  {
   "cell_type": "code",
   "execution_count": 34,
   "id": "fe355331-c86e-4d26-a192-c217056ccd28",
   "metadata": {},
   "outputs": [
    {
     "name": "stdout",
     "output_type": "stream",
     "text": [
      "1\n",
      "2\n",
      "3\n",
      "4\n",
      "5\n",
      "6\n",
      "7\n",
      "8\n",
      "9\n"
     ]
    }
   ],
   "source": [
    "def count():\n",
    "    for i in range(1,10):\n",
    "        yield(i)\n",
    "for num in count():\n",
    "    print(num)"
   ]
  },
  {
   "cell_type": "markdown",
   "id": "aa3dd3a4-db46-40ba-a818-dd42dce8a6ad",
   "metadata": {},
   "source": [
    "**8. What is a lambda function in Python and when is it typically used?**\n",
    "- A lambda is a small anonmyous function\n",
    "- used for short,one time operation\n",
    "- syntax >> Lambda arguments : expression"
   ]
  },
  {
   "cell_type": "code",
   "execution_count": 1,
   "id": "bd510e13-bc3f-4d58-8cf7-077ae0a06850",
   "metadata": {},
   "outputs": [
    {
     "name": "stdout",
     "output_type": "stream",
     "text": [
      "25\n"
     ]
    }
   ],
   "source": [
    "square = lambda x: x*x\n",
    "print(square(5))"
   ]
  },
  {
   "cell_type": "markdown",
   "id": "ddc35417-b595-4706-8f20-3529f1bab80c",
   "metadata": {},
   "source": [
    "**9. Explain the purpose and usage of the 'map()`function in Python.**\n",
    "- map() applies a function to every item in an iterable\n",
    "-  executes a specified function for each of iterm of an iterable\n",
    "- syntax >> map(func,*iterable)"
   ]
  },
  {
   "cell_type": "code",
   "execution_count": 4,
   "id": "8764cb01-ee07-48a3-b8d2-6a12811ccdb4",
   "metadata": {},
   "outputs": [
    {
     "data": {
      "text/plain": [
       "[225, 576, 441, 100]"
      ]
     },
     "execution_count": 4,
     "metadata": {},
     "output_type": "execute_result"
    }
   ],
   "source": [
    "#map (func,iterable)\n",
    "l = [15,24,21,10]\n",
    "list(map(lambda x: x**2, l )) #using lambda with map"
   ]
  },
  {
   "cell_type": "code",
   "execution_count": 10,
   "id": "9f861cf0-2618-4f95-9ee5-61391796f7a6",
   "metadata": {},
   "outputs": [
    {
     "data": {
      "text/plain": [
       "[15, 24, 21, 10]"
      ]
     },
     "execution_count": 10,
     "metadata": {},
     "output_type": "execute_result"
    }
   ],
   "source": [
    "l = ['15','24','21','10']\n",
    "list(map(lambda x: int(x),l)) #convert into int"
   ]
  },
  {
   "cell_type": "markdown",
   "id": "ef6ebebf-1087-4694-a084-8203cc252f03",
   "metadata": {},
   "source": [
    "**10. What is the difference between 'map(), reduce()`, and 'filter()`functions in Python?**\n",
    "- map() : applies function to each element\n",
    "- syntax>>map(func,iterable)\n",
    "- filter() : filter elements based on condition\n",
    "- syntax>>filter(func,iterable)\n",
    "- reduce() : reduce list to a single value\n",
    "- syntax>>reduce(func,iterable)\n",
    "- it is folding and reduction\n",
    "-  reduce will always take two arguments"
   ]
  },
  {
   "cell_type": "code",
   "execution_count": 17,
   "id": "aa9e079e-67a6-4ed7-a082-e9e7f3064cb3",
   "metadata": {},
   "outputs": [
    {
     "name": "stdout",
     "output_type": "stream",
     "text": [
      "[52, 12, 22, 42]\n"
     ]
    }
   ],
   "source": [
    "#map() function\n",
    "#syntax>>map(func,*iterable)\n",
    "nums = [50,10,20,40]\n",
    "result = list(map(lambda d: d+2, nums)) #addition\n",
    "print(result)"
   ]
  },
  {
   "cell_type": "code",
   "execution_count": 16,
   "id": "8aac37e6-f3a9-48ca-87da-fc9e413f7c08",
   "metadata": {},
   "outputs": [
    {
     "name": "stdout",
     "output_type": "stream",
     "text": [
      "[1, 3, 5, 7, 9]\n"
     ]
    }
   ],
   "source": [
    "#filter function\n",
    "nums = [1,2,3,4,5,6,7,8,9,10]\n",
    "even_num = list(filter(lambda a: a%2, nums)) #keep only even numbers\n",
    "print(even_num)"
   ]
  },
  {
   "cell_type": "code",
   "execution_count": 30,
   "id": "95325eda-908e-41f5-825c-e325d496ab90",
   "metadata": {},
   "outputs": [
    {
     "name": "stdout",
     "output_type": "stream",
     "text": [
      "60\n"
     ]
    }
   ],
   "source": [
    "#reduce function\n",
    "from functools import reduce\n",
    "num = [10,20,30]\n",
    "result = reduce(lambda x, y:x+y, num)\n",
    "print(result)"
   ]
  },
  {
   "cell_type": "code",
   "execution_count": 29,
   "id": "ac111fc0-7320-4678-8950-afbf2ad8a3a7",
   "metadata": {},
   "outputs": [
    {
     "name": "stdout",
     "output_type": "stream",
     "text": [
      "113\n"
     ]
    }
   ],
   "source": [
    "from functools import reduce\n",
    "nums = [47,11,42,13]\n",
    "result = reduce(lambda x,y:x+y,nums)\n",
    "print(result)"
   ]
  },
  {
   "cell_type": "markdown",
   "id": "b296ea1f-a197-4a82-89f6-37af3057fced",
   "metadata": {},
   "source": [
    "**11. Using pen & Paper write the internal mechanism for sum operation using reduce function on this given\n",
    "list:[47,11,42,13]**"
   ]
  },
  {
   "cell_type": "code",
   "execution_count": 33,
   "id": "f398f127-c29a-447e-848a-35a53eac78e0",
   "metadata": {},
   "outputs": [
    {
     "name": "stdout",
     "output_type": "stream",
     "text": [
      "113\n"
     ]
    }
   ],
   "source": [
    "from functools import reduce\n",
    "nums = [47,11,42,13]\n",
    "result = reduce(lambda x,y:x+y,nums)\n",
    "print(result)"
   ]
  },
  {
   "attachments": {},
   "cell_type": "markdown",
   "id": "8f020fba-0023-47d2-b1a8-0501828e8591",
   "metadata": {},
   "source": [
    "![Snake Quize](snake_quiz1.jpg)"
   ]
  },
  {
   "cell_type": "markdown",
   "id": "1fc29bf5-9289-465e-8520-a84117413041",
   "metadata": {},
   "source": [
    "# Practical QUestions:"
   ]
  },
  {
   "cell_type": "markdown",
   "id": "bddbceae-486f-4a0f-bb50-4373f2730599",
   "metadata": {},
   "source": [
    "**1. Write a Python function that takes a list of numbers as input and returns the sum of all even numbers in\n",
    "the list.**"
   ]
  },
  {
   "cell_type": "code",
   "execution_count": 6,
   "id": "358a51ca-02e6-4435-9f2c-fac0889699e3",
   "metadata": {},
   "outputs": [
    {
     "data": {
      "text/plain": [
       "30"
      ]
     },
     "execution_count": 6,
     "metadata": {},
     "output_type": "execute_result"
    }
   ],
   "source": [
    "#example 1\n",
    "num1 = [1,2,3,4,5,6,7,8,9,10]\n",
    "sum(filter(lambda x:x%2 == 0, num1))"
   ]
  },
  {
   "cell_type": "code",
   "execution_count": 3,
   "id": "0be0ef9e-9475-440f-a565-94db535a9e96",
   "metadata": {},
   "outputs": [
    {
     "name": "stdout",
     "output_type": "stream",
     "text": [
      "[1, 3, 5, 7, 9]\n"
     ]
    }
   ],
   "source": [
    "#example 2\n",
    "nums = [1,2,3,4,5,6,7,8,9,10]\n",
    "even_num = list(filter(lambda a: a%2, nums)) #keep only even numbers\n",
    "print(even_num)"
   ]
  },
  {
   "cell_type": "markdown",
   "id": "73246943-2d31-4f7f-b887-243a01b9ffd3",
   "metadata": {},
   "source": [
    "**2. Create a Python function that accepts a string and returns the reverse of that string.**"
   ]
  },
  {
   "cell_type": "code",
   "execution_count": 14,
   "id": "009071b0-b12e-42a6-981d-d46be41dacce",
   "metadata": {},
   "outputs": [
    {
     "name": "stdout",
     "output_type": "stream",
     "text": [
      "ahskiD\n"
     ]
    }
   ],
   "source": [
    "name = \"Diksha\"\n",
    "revers_name = name[::-1]\n",
    "print(revers_name)"
   ]
  },
  {
   "cell_type": "markdown",
   "id": "e47cbead-f275-44db-9720-6d98e0adada0",
   "metadata": {},
   "source": [
    "**3. Implement a Python function that takes a list of integers and returns a new list containing the squares of each number.**"
   ]
  },
  {
   "cell_type": "code",
   "execution_count": 15,
   "id": "c106692f-b2a4-4802-8a7b-f879326dc9be",
   "metadata": {},
   "outputs": [
    {
     "name": "stdout",
     "output_type": "stream",
     "text": [
      "squares: [1, 4, 9, 16, 25, 36, 49, 64, 81, 100]\n"
     ]
    }
   ],
   "source": [
    "nums = [1,2,3,4,5,6,7,8,9,10]\n",
    "square = list(map(lambda x:x**2,nums))\n",
    "print(\"squares:\",square)"
   ]
  },
  {
   "cell_type": "markdown",
   "id": "55cd552f-d437-4d26-9a24-50c1ccf48b62",
   "metadata": {},
   "source": [
    "**4. Write a Python function that checks if a given number is prime or not from 1 to 200.4. Write a Python function that checks if a given number is prime or not from 1 to 200.**"
   ]
  },
  {
   "cell_type": "code",
   "execution_count": 16,
   "id": "d8ec338e-7c3e-4900-862e-aee8b9fb3bb5",
   "metadata": {},
   "outputs": [
    {
     "name": "stdout",
     "output_type": "stream",
     "text": [
      "primes from 1 to 200: [2, 3, 5, 7, 11, 13, 17, 19, 23, 29, 31, 37, 41, 43, 47, 53, 59, 61, 67, 71, 73, 79, 83, 89, 97, 101, 103, 107, 109, 113, 127, 131, 137, 139, 149, 151, 157, 163, 167, 173, 179, 181, 191, 193, 197, 199]\n"
     ]
    }
   ],
   "source": [
    "def is_prime(n):\n",
    "    if n<2:\n",
    "        return False\n",
    "    for i in range(2,int(n**0.5)+1):\n",
    "        if n % i == 0:\n",
    "            return False\n",
    "    return True\n",
    "primes = list(filter(is_prime,range(1,201)))\n",
    "print(\"primes from 1 to 200:\",primes)"
   ]
  },
  {
   "cell_type": "markdown",
   "id": "06fd78ae-8040-4409-a85e-925ecb953313",
   "metadata": {},
   "source": [
    "**5. Create an iterator class in Python that generates the Fibonacci sequence up to a specified number of terms.**"
   ]
  },
  {
   "cell_type": "code",
   "execution_count": 28,
   "id": "2c7efbc8-ea72-47d5-8338-a3f91a56eb9d",
   "metadata": {},
   "outputs": [
    {
     "name": "stdout",
     "output_type": "stream",
     "text": [
      "0\n",
      "1\n",
      "1\n",
      "2\n",
      "3\n",
      "5\n",
      "8\n",
      "13\n",
      "21\n",
      "34\n"
     ]
    },
    {
     "ename": "NameError",
     "evalue": "name 'stopIteration' is not defined",
     "output_type": "error",
     "traceback": [
      "\u001b[31m---------------------------------------------------------------------------\u001b[39m",
      "\u001b[31mNameError\u001b[39m                                 Traceback (most recent call last)",
      "\u001b[36mCell\u001b[39m\u001b[36m \u001b[39m\u001b[32mIn[28]\u001b[39m\u001b[32m, line 21\u001b[39m\n\u001b[32m     17\u001b[39m             \u001b[38;5;28;01mraise\u001b[39;00m stopIteration\n\u001b[32m     20\u001b[39m fib = Fibonacci(\u001b[32m10\u001b[39m)\n\u001b[32m---> \u001b[39m\u001b[32m21\u001b[39m \u001b[38;5;28;43;01mfor\u001b[39;49;00m\u001b[43m \u001b[49m\u001b[43mnum\u001b[49m\u001b[43m \u001b[49m\u001b[38;5;129;43;01min\u001b[39;49;00m\u001b[43m \u001b[49m\u001b[43mfib\u001b[49m\u001b[43m:\u001b[49m\n\u001b[32m     22\u001b[39m \u001b[43m    \u001b[49m\u001b[38;5;28;43mprint\u001b[39;49m\u001b[43m(\u001b[49m\u001b[43mnum\u001b[49m\u001b[43m)\u001b[49m\n",
      "\u001b[36mCell\u001b[39m\u001b[36m \u001b[39m\u001b[32mIn[28]\u001b[39m\u001b[32m, line 17\u001b[39m, in \u001b[36mFibonacci.__next__\u001b[39m\u001b[34m(self)\u001b[39m\n\u001b[32m     15\u001b[39m     \u001b[38;5;28;01mreturn\u001b[39;00m result\n\u001b[32m     16\u001b[39m \u001b[38;5;28;01melse\u001b[39;00m:\n\u001b[32m---> \u001b[39m\u001b[32m17\u001b[39m     \u001b[38;5;28;01mraise\u001b[39;00m \u001b[43mstopIteration\u001b[49m\n",
      "\u001b[31mNameError\u001b[39m: name 'stopIteration' is not defined"
     ]
    }
   ],
   "source": [
    "class Fibonacci:\n",
    "    def __init__(self, limit):\n",
    "     self.a = 0\n",
    "     self.b = 1\n",
    "     self.count = 0\n",
    "     self.limit = limit\n",
    "        \n",
    "    def __iter__(self):\n",
    "        return self\n",
    "    def __next__(self):\n",
    "        if self.count < self.limit:\n",
    "            result = self.a\n",
    "            self.a,self.b = self.b,self.a +self.b\n",
    "            self.count += 1\n",
    "            return result\n",
    "        else:\n",
    "            raise stopIteration\n",
    "\n",
    "            \n",
    "fib = Fibonacci(10)\n",
    "for num in fib:\n",
    "    print(num)"
   ]
  },
  {
   "cell_type": "markdown",
   "id": "22ea1e72-7b87-4552-b324-5978023e8615",
   "metadata": {},
   "source": [
    "**6. Write a generator function in Python that yields the powers of 2 up to a given exponent.**"
   ]
  },
  {
   "cell_type": "code",
   "execution_count": 31,
   "id": "89a865f3-c018-4c75-835b-738b10b01cf0",
   "metadata": {},
   "outputs": [
    {
     "name": "stdout",
     "output_type": "stream",
     "text": [
      "1\n",
      "2\n",
      "4\n",
      "8\n",
      "16\n",
      "32\n"
     ]
    }
   ],
   "source": [
    "def power_of_2(limit):\n",
    "    for i in range(limit + 1):\n",
    "        yield 2**i\n",
    "\n",
    "for num in power_of_2(5):\n",
    "    print(num)"
   ]
  },
  {
   "cell_type": "markdown",
   "id": "8bc7ce5d-e7dd-4856-b543-7561631df32d",
   "metadata": {},
   "source": [
    "**7. Implement a generator function that reads a file line by line and yields each line as a string.**"
   ]
  },
  {
   "cell_type": "code",
   "execution_count": 33,
   "id": "69dc1066-0de0-4986-8ed7-84b2d6de69c4",
   "metadata": {},
   "outputs": [],
   "source": [
    "def read_file_line(file_path):\n",
    "    with open(file_path, 'r') as file:\n",
    "        for line in file:\n",
    "            yield line.strip()"
   ]
  },
  {
   "cell_type": "code",
   "execution_count": 34,
   "id": "7cfa68bd-36e3-46af-af22-3e483bff3d9c",
   "metadata": {},
   "outputs": [
    {
     "ename": "FileNotFoundError",
     "evalue": "[Errno 2] No such file or directory: 'sample.txt'",
     "output_type": "error",
     "traceback": [
      "\u001b[31m---------------------------------------------------------------------------\u001b[39m",
      "\u001b[31mFileNotFoundError\u001b[39m                         Traceback (most recent call last)",
      "\u001b[36mCell\u001b[39m\u001b[36m \u001b[39m\u001b[32mIn[34]\u001b[39m\u001b[32m, line 6\u001b[39m\n\u001b[32m      3\u001b[39m         \u001b[38;5;28;01mfor\u001b[39;00m line \u001b[38;5;129;01min\u001b[39;00m file:\n\u001b[32m      4\u001b[39m             \u001b[38;5;28;01myield\u001b[39;00m line.strip()\n\u001b[32m----> \u001b[39m\u001b[32m6\u001b[39m \u001b[38;5;28;43;01mfor\u001b[39;49;00m\u001b[43m \u001b[49m\u001b[43mline\u001b[49m\u001b[43m \u001b[49m\u001b[38;5;129;43;01min\u001b[39;49;00m\u001b[43m \u001b[49m\u001b[43mread_file_line_by_line\u001b[49m\u001b[43m(\u001b[49m\u001b[33;43m'\u001b[39;49m\u001b[33;43msample.txt\u001b[39;49m\u001b[33;43m'\u001b[39;49m\u001b[43m)\u001b[49m\u001b[43m:\u001b[49m\n\u001b[32m      7\u001b[39m \u001b[43m    \u001b[49m\u001b[38;5;28;43mprint\u001b[39;49m\u001b[43m(\u001b[49m\u001b[43mline\u001b[49m\u001b[43m)\u001b[49m\n",
      "\u001b[36mCell\u001b[39m\u001b[36m \u001b[39m\u001b[32mIn[34]\u001b[39m\u001b[32m, line 2\u001b[39m, in \u001b[36mread_file_line_by_line\u001b[39m\u001b[34m(filename)\u001b[39m\n\u001b[32m      1\u001b[39m \u001b[38;5;28;01mdef\u001b[39;00m\u001b[38;5;250m \u001b[39m\u001b[34mread_file_line_by_line\u001b[39m(filename):\n\u001b[32m----> \u001b[39m\u001b[32m2\u001b[39m     \u001b[38;5;28;01mwith\u001b[39;00m \u001b[38;5;28;43mopen\u001b[39;49m\u001b[43m(\u001b[49m\u001b[43mfilename\u001b[49m\u001b[43m,\u001b[49m\u001b[43m \u001b[49m\u001b[33;43m'\u001b[39;49m\u001b[33;43mr\u001b[39;49m\u001b[33;43m'\u001b[39;49m\u001b[43m)\u001b[49m \u001b[38;5;28;01mas\u001b[39;00m file:\n\u001b[32m      3\u001b[39m         \u001b[38;5;28;01mfor\u001b[39;00m line \u001b[38;5;129;01min\u001b[39;00m file:\n\u001b[32m      4\u001b[39m             \u001b[38;5;28;01myield\u001b[39;00m line.strip()\n",
      "\u001b[36mFile \u001b[39m\u001b[32m~\\AppData\\Local\\Programs\\Python\\Python313\\Lib\\site-packages\\IPython\\core\\interactiveshell.py:327\u001b[39m, in \u001b[36m_modified_open\u001b[39m\u001b[34m(file, *args, **kwargs)\u001b[39m\n\u001b[32m    320\u001b[39m \u001b[38;5;28;01mif\u001b[39;00m file \u001b[38;5;129;01min\u001b[39;00m {\u001b[32m0\u001b[39m, \u001b[32m1\u001b[39m, \u001b[32m2\u001b[39m}:\n\u001b[32m    321\u001b[39m     \u001b[38;5;28;01mraise\u001b[39;00m \u001b[38;5;167;01mValueError\u001b[39;00m(\n\u001b[32m    322\u001b[39m         \u001b[33mf\u001b[39m\u001b[33m\"\u001b[39m\u001b[33mIPython won\u001b[39m\u001b[33m'\u001b[39m\u001b[33mt let you open fd=\u001b[39m\u001b[38;5;132;01m{\u001b[39;00mfile\u001b[38;5;132;01m}\u001b[39;00m\u001b[33m by default \u001b[39m\u001b[33m\"\u001b[39m\n\u001b[32m    323\u001b[39m         \u001b[33m\"\u001b[39m\u001b[33mas it is likely to crash IPython. If you know what you are doing, \u001b[39m\u001b[33m\"\u001b[39m\n\u001b[32m    324\u001b[39m         \u001b[33m\"\u001b[39m\u001b[33myou can use builtins\u001b[39m\u001b[33m'\u001b[39m\u001b[33m open.\u001b[39m\u001b[33m\"\u001b[39m\n\u001b[32m    325\u001b[39m     )\n\u001b[32m--> \u001b[39m\u001b[32m327\u001b[39m \u001b[38;5;28;01mreturn\u001b[39;00m \u001b[43mio_open\u001b[49m\u001b[43m(\u001b[49m\u001b[43mfile\u001b[49m\u001b[43m,\u001b[49m\u001b[43m \u001b[49m\u001b[43m*\u001b[49m\u001b[43margs\u001b[49m\u001b[43m,\u001b[49m\u001b[43m \u001b[49m\u001b[43m*\u001b[49m\u001b[43m*\u001b[49m\u001b[43mkwargs\u001b[49m\u001b[43m)\u001b[49m\n",
      "\u001b[31mFileNotFoundError\u001b[39m: [Errno 2] No such file or directory: 'sample.txt'"
     ]
    }
   ],
   "source": [
    "def read_file_line_by_line(filename):\n",
    "    with open(filename, 'r') as file:\n",
    "        for line in file:\n",
    "            yield line.strip()\n",
    "\n",
    "for line in read_file_line_by_line('sample.txt'):\n",
    "    print(line)"
   ]
  },
  {
   "cell_type": "markdown",
   "id": "965de581-99ec-4252-b994-bdca7689ab19",
   "metadata": {},
   "source": [
    "**8. Use a lambda function in Python to sort a list of tuples based on the second element of each tuple.**"
   ]
  },
  {
   "cell_type": "code",
   "execution_count": 35,
   "id": "d0976aec-7852-4241-b4f5-378d884233c0",
   "metadata": {},
   "outputs": [
    {
     "name": "stdout",
     "output_type": "stream",
     "text": [
      "sorted tuples: [(2, 1), (4, 2), (1, 3)]\n"
     ]
    }
   ],
   "source": [
    "data = [(1,3),(2,1),(4,2)]\n",
    "sorted_data = sorted(data, key=lambda x: x[1])\n",
    "print(\"sorted tuples:\",sorted_data)"
   ]
  },
  {
   "cell_type": "markdown",
   "id": "a7447e35-6a19-4290-94d3-20da9b352c37",
   "metadata": {},
   "source": [
    "**9. Write a Python program that uses 'map()'to convert a list of temperatures from Celsius to Fahrenheit.**"
   ]
  },
  {
   "cell_type": "code",
   "execution_count": 36,
   "id": "07fcf934-89bd-4dad-9bff-683fcedc5f78",
   "metadata": {},
   "outputs": [
    {
     "name": "stdout",
     "output_type": "stream",
     "text": [
      "Fahrenheit: [32.0, 68.0, 98.6, 212.0]\n"
     ]
    }
   ],
   "source": [
    "celsius = [0,20,37,100]\n",
    "fahrenheit = list(map(lambda c: (c*9/5) + 32,celsius))\n",
    "print(\"Fahrenheit:\",fahrenheit)"
   ]
  },
  {
   "cell_type": "markdown",
   "id": "4218d308-bbd6-4365-8475-f7b27aec2904",
   "metadata": {},
   "source": [
    "**10. Create a Python program that uses 'filter()`to remove all the vowels from a given string.**"
   ]
  },
  {
   "cell_type": "code",
   "execution_count": 37,
   "id": "50ffa172-d1c5-4a2c-9bd2-9683cd1f8649",
   "metadata": {},
   "outputs": [
    {
     "name": "stdout",
     "output_type": "stream",
     "text": [
      "without vowels: Dksh kmbhr\n"
     ]
    }
   ],
   "source": [
    "s = \"Diksha kumbhar\"\n",
    "no_vowels = ''.join(filter(lambda c: c.lower() not in 'aeiou',s))\n",
    "print(\"without vowels:\",no_vowels)"
   ]
  },
  {
   "cell_type": "markdown",
   "id": "85619f6c-76b8-46fa-abc7-670fa8c5fe7e",
   "metadata": {},
   "source": [
    "**11) Imagine an accounting routine used in a book shop. It works on a list with sublists, which look like this:**"
   ]
  },
  {
   "cell_type": "code",
   "execution_count": 39,
   "id": "dcf7e912-96e7-4bb2-b459-e9941fe3a368",
   "metadata": {},
   "outputs": [
    {
     "name": "stdout",
     "output_type": "stream",
     "text": [
      "[(37587, 163.8), (98762, 284.0), (77226, 108.85), (88112, 84.97)]\n"
     ]
    }
   ],
   "source": [
    "books = [\n",
    "    [37587,\"learning python, mark lutz\", 4,\n",
    "40.95],\n",
    "    [98762, \"programming python, mark lutz\", 5,\n",
    "56.80],\n",
    "    [77226,\"head first python, paul barry\", 3,\n",
    "32.95],\n",
    "    [88112, \"einfuhrung in python3, bernd klein\",\n",
    "3, 24.99]\n",
    "]\n",
    "\n",
    "result = list(map(\n",
    "    lambda x: (\n",
    "        x[0],\n",
    "        round(x[2] * x[3] + 10,2) if x[2] * x[3]\n",
    "< 100 else round(x[2] * x[3], 2)\n",
    "    ),\n",
    "    books\n",
    "))\n",
    "\n",
    "print(result)"
   ]
  }
 ],
 "metadata": {
  "kernelspec": {
   "display_name": "Python 3 (ipykernel)",
   "language": "python",
   "name": "python3"
  },
  "language_info": {
   "codemirror_mode": {
    "name": "ipython",
    "version": 3
   },
   "file_extension": ".py",
   "mimetype": "text/x-python",
   "name": "python",
   "nbconvert_exporter": "python",
   "pygments_lexer": "ipython3",
   "version": "3.13.5"
  }
 },
 "nbformat": 4,
 "nbformat_minor": 5
}
